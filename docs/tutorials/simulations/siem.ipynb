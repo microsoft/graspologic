{
 "cells": [
  {
   "cell_type": "markdown",
   "metadata": {},
   "source": [
    "# Structured Independent Edge Model (SIEM)"
   ]
  },
  {
   "cell_type": "code",
   "execution_count": null,
   "metadata": {},
   "outputs": [],
   "source": [
    "import graspologic\n",
    "import matplotlib.pyplot as plt\n",
    "import numpy as np\n",
    "%matplotlib inline"
   ]
  },
  {
   "cell_type": "markdown",
   "metadata": {},
   "source": [
    "Unlike [Stochastic Block Models](./sbm.ipynb), a Structured Independent Edge Model (SIEM) produces graphs containing clusters: disjoint subgraphs characterized by differing edge probabilities for edges in different clusters.\n",
    "\n",
    "SIEM is parameterized by a an edge cluster vector $T$, where each element $T_{ij} \\in \\{1, ..., K\\}^{n \\times n}$ indicates the edge cluster for the edge which is between vertices $i$ and $j$, and a cluster probability vector $\\vec p \\in \\mathbb R^{n}$, where each element specifies the probability of an edge in a particular edge cluster.\n",
    "\n",
    "The SIEM is a further generalization of the Stochastic Block Model, in which edges, instead of just nodes, can have their own membership in heterogeneously characterized subgraphs of the graph.\n",
    "\n",
    "Below, we sample a two-cluster SIEM (undirected, no self-loops), where there is an off-diagonal band between every vertex and the vertex which is $50$ indices past it. The edge probability vector is:\n",
    "\\begin{align*}\n",
    "    \\vec p = \\begin{bmatrix}\n",
    "        0.5 \\\\ 0.2\n",
    "    \\end{bmatrix}\n",
    "\\end{align*}"
   ]
  },
  {
   "cell_type": "code",
   "execution_count": null,
   "metadata": {},
   "outputs": [],
   "source": [
    "from graspologic.simulations import siem\n",
    "\n",
    "def offdiag_edges(n):\n",
    "    \"\"\"\n",
    "    A function for generating off-diagonal SIEM edge clusters.\n",
    "    \"\"\"\n",
    "    m = int(n / 2)\n",
    "    edge_clust = np.zeros((n, n))\n",
    "    for i in range(n):\n",
    "        for j in range(n):\n",
    "            if (i == j + m) or (j == i + m):\n",
    "                edge_clust[i, j] = 1\n",
    "            else:\n",
    "                edge_clust[i, j] = 2\n",
    "    return edge_clust\n",
    "\n",
    "n = 100\n",
    "T = offdiag_edges(n)\n",
    "p = [0.9, 0.1]\n",
    "\n",
    "np.random.seed(1)\n",
    "G = siem(T, p=p, loops=True)"
   ]
  },
  {
   "cell_type": "markdown",
   "metadata": {},
   "source": [
    "## Visualize the graph using heatmap"
   ]
  },
  {
   "cell_type": "code",
   "execution_count": null,
   "metadata": {},
   "outputs": [],
   "source": [
    "from graspologic.plot import heatmap\n",
    "\n",
    "_ = heatmap(G, title ='SIEM Simulation')"
   ]
  },
  {
   "cell_type": "markdown",
   "metadata": {},
   "source": [
    "Note the two high probability bands in the upper right and lower left triangles of the adjacency matrix.\n",
    "\n",
    "## Weighted SIEM Graphs\n",
    "\n",
    "Similar to ER and SIEM simulations, ``siem()`` functions provide ways to sample weights for all edges that were sampled via a probability distribution function. In order to sample with weights, you can either:\n",
    "\n",
    "1. Provide a *single* probability distribution function with corresponding keyword arguments for the distribution function. All weights will be sampled using the same function.\n",
    "2. Provide a probability distribution function with corresponding keyword arguments for each block.\n",
    "\n",
    "Below, we sample a two-cluster SIEM (undirected, no self-loops), where there is an off-diagonal band between every vertex and the vertex which is $50$ indices past it. The edge probability vector is:\n",
    "\\begin{align*}\n",
    "    \\vec p = \\begin{bmatrix}\n",
    "        0.5 \\\\ 0.2\n",
    "    \\end{bmatrix}\n",
    "\\end{align*}\n",
    "\n",
    "and the weights are sampled from the following probability functions:\n",
    "\n",
    "\\begin{align*}\n",
    "PDFs &= \\begin{bmatrix}Normal\\\\\n",
    "Poisson\n",
    "\\end{bmatrix}\\\\\n",
    "Parameters   &= \\begin{bmatrix}{\\mu=3, \\sigma^2=1} \\\\\n",
    "{\\lambda=5}\n",
    "\\end{bmatrix}\n",
    "\\end{align*}"
   ]
  },
  {
   "cell_type": "code",
   "execution_count": null,
   "metadata": {},
   "outputs": [],
   "source": [
    "from numpy.random import normal, poisson\n",
    "\n",
    "T = offdiag_edges(n)\n",
    "p = [0.9, 0.1]\n",
    "wt = [normal, poisson]\n",
    "wtargs = [dict(loc=3, scale=1), dict(lam=5)]\n",
    "\n",
    "G = siem(T, p, wt=wt, loops=True, wtargs=wtargs)"
   ]
  },
  {
   "cell_type": "markdown",
   "metadata": {},
   "source": [
    "## Visualize the graph using heatmap"
   ]
  },
  {
   "cell_type": "code",
   "execution_count": null,
   "metadata": {},
   "outputs": [],
   "source": [
    "_ = heatmap(G, title='Weighted SBM Simulation')"
   ]
  }
 ],
 "metadata": {
  "language_info": {
   "codemirror_mode": {
    "name": "ipython",
    "version": 3
   },
   "file_extension": ".py",
   "mimetype": "text/x-python",
   "name": "python",
   "nbconvert_exporter": "python",
   "pygments_lexer": "ipython3",
   "version": "3.8.2"
  }
 },
 "nbformat": 4,
 "nbformat_minor": 4
}
